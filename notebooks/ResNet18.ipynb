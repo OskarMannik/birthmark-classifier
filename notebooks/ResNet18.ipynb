{
  "cells": [
    {
      "cell_type": "code",
      "execution_count": null,
      "metadata": {
        "colab": {
          "base_uri": "https://localhost:8080/"
        },
        "id": "0hsb3JNBFIaN",
        "outputId": "01aa813c-279b-4fd0-c6f4-9567834b5f2f"
      },
      "outputs": [
        {
          "name": "stdout",
          "output_type": "stream",
          "text": [
            "Requirement already satisfied: kaggle in /usr/local/lib/python3.10/dist-packages (1.6.17)\n",
            "Requirement already satisfied: six>=1.10 in /usr/local/lib/python3.10/dist-packages (from kaggle) (1.16.0)\n",
            "Requirement already satisfied: certifi>=2023.7.22 in /usr/local/lib/python3.10/dist-packages (from kaggle) (2024.8.30)\n",
            "Requirement already satisfied: python-dateutil in /usr/local/lib/python3.10/dist-packages (from kaggle) (2.8.2)\n",
            "Requirement already satisfied: requests in /usr/local/lib/python3.10/dist-packages (from kaggle) (2.32.3)\n",
            "Requirement already satisfied: tqdm in /usr/local/lib/python3.10/dist-packages (from kaggle) (4.66.6)\n",
            "Requirement already satisfied: python-slugify in /usr/local/lib/python3.10/dist-packages (from kaggle) (8.0.4)\n",
            "Requirement already satisfied: urllib3 in /usr/local/lib/python3.10/dist-packages (from kaggle) (2.2.3)\n",
            "Requirement already satisfied: bleach in /usr/local/lib/python3.10/dist-packages (from kaggle) (6.2.0)\n",
            "Requirement already satisfied: webencodings in /usr/local/lib/python3.10/dist-packages (from bleach->kaggle) (0.5.1)\n",
            "Requirement already satisfied: text-unidecode>=1.3 in /usr/local/lib/python3.10/dist-packages (from python-slugify->kaggle) (1.3)\n",
            "Requirement already satisfied: charset-normalizer<4,>=2 in /usr/local/lib/python3.10/dist-packages (from requests->kaggle) (3.4.0)\n",
            "Requirement already satisfied: idna<4,>=2.5 in /usr/local/lib/python3.10/dist-packages (from requests->kaggle) (3.10)\n"
          ]
        }
      ],
      "source": [
        "!pip install kaggle"
      ]
    },
    {
      "cell_type": "code",
      "execution_count": null,
      "metadata": {
        "colab": {
          "base_uri": "https://localhost:8080/"
        },
        "id": "sCMCbLWfFRvE",
        "outputId": "fb833afb-2042-4be9-dbb3-b61a4c51dfbc"
      },
      "outputs": [
        {
          "name": "stdout",
          "output_type": "stream",
          "text": [
            "Downloading from https://www.kaggle.com/api/v1/datasets/download/kmader/skin-cancer-mnist-ham10000?dataset_version_number=2...\n"
          ]
        },
        {
          "name": "stderr",
          "output_type": "stream",
          "text": [
            "100%|██████████| 5.20G/5.20G [01:02<00:00, 89.9MB/s]"
          ]
        },
        {
          "name": "stdout",
          "output_type": "stream",
          "text": [
            "Extracting files...\n"
          ]
        },
        {
          "name": "stderr",
          "output_type": "stream",
          "text": [
            "\n"
          ]
        },
        {
          "name": "stdout",
          "output_type": "stream",
          "text": [
            "Path to dataset files: /root/.cache/kagglehub/datasets/kmader/skin-cancer-mnist-ham10000/versions/2\n"
          ]
        }
      ],
      "source": [
        "import kagglehub\n",
        "\n",
        "path = kagglehub.dataset_download(\"kmader/skin-cancer-mnist-ham10000\")\n",
        "\n",
        "print(\"Path to dataset files:\", path)"
      ]
    },
    {
      "cell_type": "code",
      "execution_count": null,
      "metadata": {
        "colab": {
          "base_uri": "https://localhost:8080/"
        },
        "id": "Rj4oewutAhmj",
        "outputId": "c3b7da10-8114-424b-e856-8cc62cfce341"
      },
      "outputs": [
        {
          "name": "stdout",
          "output_type": "stream",
          "text": [
            "     lesion_id      image_id   dx dx_type   age   sex localization\n",
            "0  HAM_0000118  ISIC_0027419  bkl   histo  80.0  male        scalp\n",
            "1  HAM_0000118  ISIC_0025030  bkl   histo  80.0  male        scalp\n",
            "2  HAM_0002730  ISIC_0026769  bkl   histo  80.0  male        scalp\n",
            "3  HAM_0002730  ISIC_0025661  bkl   histo  80.0  male        scalp\n",
            "4  HAM_0001466  ISIC_0031633  bkl   histo  75.0  male          ear\n"
          ]
        }
      ],
      "source": [
        "import pandas as pd\n",
        "\n",
        "metadata_path = \"/root/.cache/kagglehub/datasets/kmader/skin-cancer-mnist-ham10000/versions/2/HAM10000_metadata.csv\"\n",
        "metadata_df = pd.read_csv(metadata_path)\n",
        "\n",
        "print(metadata_df.head())\n"
      ]
    },
    {
      "cell_type": "code",
      "execution_count": null,
      "metadata": {
        "colab": {
          "base_uri": "https://localhost:8080/"
        },
        "id": "9yeEKSHy6NrD",
        "outputId": "9c5147d8-ce56-4b1e-b395-43fb5e0b4bab"
      },
      "outputs": [
        {
          "name": "stdout",
          "output_type": "stream",
          "text": [
            "       image_id                                         image_path\n",
            "0  ISIC_0027419  /root/.cache/kagglehub/datasets/kmader/skin-ca...\n",
            "1  ISIC_0025030  /root/.cache/kagglehub/datasets/kmader/skin-ca...\n",
            "2  ISIC_0026769  /root/.cache/kagglehub/datasets/kmader/skin-ca...\n",
            "3  ISIC_0025661  /root/.cache/kagglehub/datasets/kmader/skin-ca...\n",
            "4  ISIC_0031633  /root/.cache/kagglehub/datasets/kmader/skin-ca...\n"
          ]
        }
      ],
      "source": [
        "import os\n",
        "\n",
        "folder1 = \"/root/.cache/kagglehub/datasets/kmader/skin-cancer-mnist-ham10000/versions/2/HAM10000_images_part_1\"\n",
        "folder2 = \"/root/.cache/kagglehub/datasets/kmader/skin-cancer-mnist-ham10000/versions/2/HAM10000_images_part_2\"\n",
        "\n",
        "def get_image_path(image_id):\n",
        "    if os.path.exists(os.path.join(folder1, f\"{image_id}.jpg\")):\n",
        "        return os.path.join(folder1, f\"{image_id}.jpg\")\n",
        "    elif os.path.exists(os.path.join(folder2, f\"{image_id}.jpg\")):\n",
        "        return os.path.join(folder2, f\"{image_id}.jpg\")\n",
        "    else:\n",
        "        return None\n",
        "\n",
        "metadata_df['image_path'] = metadata_df['image_id'].apply(get_image_path)\n",
        "\n",
        "print(metadata_df[['image_id', 'image_path']].head())\n"
      ]
    },
    {
      "cell_type": "code",
      "execution_count": null,
      "metadata": {
        "colab": {
          "base_uri": "https://localhost:8080/"
        },
        "id": "3DJ8yeWFDdH-",
        "outputId": "cd0b1563-f9fc-42ee-b432-6193ec2ef8e6"
      },
      "outputs": [
        {
          "name": "stdout",
          "output_type": "stream",
          "text": [
            "Training samples: 6409\n",
            "Validation samples: 1603\n",
            "Testing samples: 2003\n"
          ]
        }
      ],
      "source": [
        "from sklearn.model_selection import train_test_split\n",
        "\n",
        "train_val_df, test_df = train_test_split(\n",
        "    metadata_df,\n",
        "    test_size=0.2,  \n",
        "    stratify=metadata_df['dx'],  \n",
        ")\n",
        "\n",
        "train_df, val_df = train_test_split(\n",
        "    train_val_df,\n",
        "    test_size=0.2,  \n",
        "    stratify=train_val_df['dx'],  \n",
        "    random_state=42\n",
        ")\n",
        "\n",
        "print(f\"Training samples: {len(train_df)}\")\n",
        "print(f\"Validation samples: {len(val_df)}\")\n",
        "print(f\"Testing samples: {len(test_df)}\")\n"
      ]
    },
    {
      "cell_type": "code",
      "execution_count": null,
      "metadata": {
        "colab": {
          "base_uri": "https://localhost:8080/"
        },
        "id": "wf73CbxyBc4o",
        "outputId": "c23e9a73-39a8-4dbb-9293-d3a3e68b51a5"
      },
      "outputs": [
        {
          "name": "stdout",
          "output_type": "stream",
          "text": [
            "       image_id                                         image_path\n",
            "0  ISIC_0027419  /root/.cache/kagglehub/datasets/kmader/skin-ca...\n",
            "1  ISIC_0025030  /root/.cache/kagglehub/datasets/kmader/skin-ca...\n",
            "2  ISIC_0026769  /root/.cache/kagglehub/datasets/kmader/skin-ca...\n",
            "3  ISIC_0025661  /root/.cache/kagglehub/datasets/kmader/skin-ca...\n",
            "4  ISIC_0031633  /root/.cache/kagglehub/datasets/kmader/skin-ca...\n"
          ]
        }
      ],
      "source": [
        "print(metadata_df[['image_id', 'image_path']].head())\n"
      ]
    },
    {
      "cell_type": "code",
      "execution_count": null,
      "metadata": {
        "colab": {
          "base_uri": "https://localhost:8080/"
        },
        "id": "EuqUufBjCcHW",
        "outputId": "8c9f5fb1-d26d-4f07-8bd1-6f1df1daa6bb"
      },
      "outputs": [
        {
          "name": "stdout",
          "output_type": "stream",
          "text": [
            "Index(['lesion_id', 'image_id', 'dx', 'dx_type', 'age', 'sex', 'localization',\n",
            "       'image_path'],\n",
            "      dtype='object')\n",
            "Index(['lesion_id', 'image_id', 'dx', 'dx_type', 'age', 'sex', 'localization',\n",
            "       'image_path'],\n",
            "      dtype='object')\n",
            "Index(['lesion_id', 'image_id', 'dx', 'dx_type', 'age', 'sex', 'localization',\n",
            "       'image_path'],\n",
            "      dtype='object')\n"
          ]
        }
      ],
      "source": [
        "print(train_df.columns)\n",
        "print(test_df.columns)\n",
        "print(val_df.columns)\n"
      ]
    },
    {
      "cell_type": "code",
      "execution_count": null,
      "metadata": {
        "colab": {
          "base_uri": "https://localhost:8080/"
        },
        "id": "UGXRqmtp_uE6",
        "outputId": "d400dfc4-3db1-45a8-fa2f-eb753b130817"
      },
      "outputs": [
        {
          "name": "stdout",
          "output_type": "stream",
          "text": [
            "Resizing completed.\n"
          ]
        }
      ],
      "source": [
        "import os\n",
        "from PIL import Image\n",
        "\n",
        "folder1 = \"/root/.cache/kagglehub/datasets/kmader/skin-cancer-mnist-ham10000/versions/2/HAM10000_images_part_1\"\n",
        "folder2 = \"/root/.cache/kagglehub/datasets/kmader/skin-cancer-mnist-ham10000/versions/2/HAM10000_images_part_2\"\n",
        "\n",
        "train_output = \"/content/resized_train_images\"\n",
        "val_output = \"/content/resized_val_images\"\n",
        "test_output = \"/content/resized_test_images\"\n",
        "\n",
        "os.makedirs(train_output, exist_ok=True)\n",
        "os.makedirs(val_output, exist_ok=True)\n",
        "os.makedirs(test_output, exist_ok=True)\n",
        "\n",
        "def resize_and_save(image_path, output_folder, size=(224, 224)):\n",
        "    try:\n",
        "        image = Image.open(image_path)\n",
        "        image = image.resize(size)\n",
        "        image.save(os.path.join(output_folder, os.path.basename(image_path)))\n",
        "    except Exception as e:\n",
        "        print(f\"Error resizing {image_path}: {e}\")\n",
        "\n",
        "def process_split(dataframe, output_folder):\n",
        "    for _, row in dataframe.iterrows():\n",
        "        resize_and_save(row['image_path'], output_folder)\n",
        "\n",
        "process_split(train_df, train_output)\n",
        "process_split(val_df, val_output)\n",
        "process_split(test_df, test_output)\n",
        "\n",
        "print(\"Resizing completed.\")\n"
      ]
    },
    {
      "cell_type": "code",
      "execution_count": null,
      "metadata": {
        "colab": {
          "base_uri": "https://localhost:8080/"
        },
        "id": "0oiKq3DB_u4o",
        "outputId": "df192429-7d9d-4147-e918-6dd707428f66"
      },
      "outputs": [
        {
          "name": "stdout",
          "output_type": "stream",
          "text": [
            "Training images: 6409\n",
            "Test images: 2003\n",
            "Validation images: 1603\n"
          ]
        }
      ],
      "source": [
        "import os\n",
        "\n",
        "print(f\"Training images: {len(os.listdir(train_output))}\")\n",
        "print(f\"Test images: {len(os.listdir(test_output))}\")\n",
        "print(f\"Validation images: {len(os.listdir(val_output))}\")\n"
      ]
    },
    {
      "cell_type": "code",
      "execution_count": null,
      "metadata": {
        "colab": {
          "base_uri": "https://localhost:8080/",
          "height": 406
        },
        "id": "8N7uN-0l_u-b",
        "outputId": "fa06ebaf-5379-43ea-b098-7592c08dab2a"
      },
      "outputs": [
        {
          "data": {
            "image/png": "[encoded data removed]",
            "text/plain": [
              "<Figure size 640x480 with 1 Axes>"
            ]
          },
          "metadata": {},
          "output_type": "display_data"
        }
      ],
      "source": [
        "import matplotlib.pyplot as plt\n",
        "import os\n",
        "from PIL import Image\n",
        "\n",
        "output_folder = \"/content/resized_train_images\"\n",
        "\n",
        "image_files = os.listdir(output_folder)\n",
        "\n",
        "image_path = os.path.join(output_folder, image_files[0])\n",
        "\n",
        "image = Image.open(image_path)\n",
        "plt.imshow(image)\n",
        "plt.axis('off')  \n",
        "plt.show()\n"
      ]
    },
    {
      "cell_type": "code",
      "execution_count": null,
      "metadata": {
        "id": "GfI3CBsf_vFg"
      },
      "outputs": [],
      "source": [
        "import pandas as pd\n",
        "from sklearn.preprocessing import StandardScaler, OneHotEncoder\n",
        "from sklearn.compose import ColumnTransformer\n",
        "\n",
        "# Columns to use from the metadata\n",
        "tabular_features = ['age', 'sex', 'localization']\n",
        "\n",
        "# Preprocessing: one-hot encode categorical features and scale numerical ones\n",
        "preprocessor = ColumnTransformer(\n",
        "    transformers=[\n",
        "        ('num', StandardScaler(), ['age']),\n",
        "        ('cat', OneHotEncoder(), ['sex', 'localization'])\n",
        "    ]\n",
        ")\n",
        "\n",
        "train_tabular = preprocessor.fit_transform(train_df[tabular_features])\n",
        "val_tabular = preprocessor.transform(val_df[tabular_features])\n",
        "test_tabular = preprocessor.transform(test_df[tabular_features])\n",
        "\n",
        "import torch\n",
        "train_tabular = torch.tensor(train_tabular.toarray(), dtype=torch.float32)\n",
        "val_tabular = torch.tensor(val_tabular.toarray(), dtype=torch.float32)\n",
        "test_tabular = torch.tensor(test_tabular.toarray(), dtype=torch.float32)\n"
      ]
    },
    {
      "cell_type": "code",
      "execution_count": null,
      "metadata": {
        "id": "_0HKYUVgG83j"
      },
      "outputs": [],
      "source": [
        "import torch.nn as nn\n",
        "import torchvision.models as models\n",
        "\n",
        "class MultimodalModel(nn.Module):\n",
        "    def __init__(self, num_tabular_features, num_classes):\n",
        "        super(MultimodalModel, self).__init__()\n",
        "\n",
        "        # Image branch (pre-trained ResNet)\n",
        "        self.cnn = models.resnet18(pretrained=True)\n",
        "        self.cnn.fc = nn.Identity() \n",
        "\n",
        "        # Tabular branch\n",
        "        self.tabular = nn.Sequential( #kasuta efficientNeti\n",
        "            nn.Linear(num_tabular_features, 128),\n",
        "            nn.ReLU(),\n",
        "            nn.Linear(128, 64),\n",
        "            nn.ReLU()\n",
        "        )\n",
        "\n",
        "        # Fusion layer\n",
        "        self.fusion = nn.Sequential(\n",
        "            nn.Linear(64 + 512, 128),  \n",
        "            nn.ReLU(),\n",
        "            nn.Linear(128, num_classes)\n",
        "        )\n",
        "\n",
        "    def forward(self, image, tabular_features):\n",
        "        image_features = self.cnn(image)\n",
        "\n",
        "        tabular_features = self.tabular(tabular_features)\n",
        "\n",
        "        combined = torch.cat((image_features, tabular_features), dim=1)\n",
        "\n",
        "        output = self.fusion(combined)\n",
        "        return output\n"
      ]
    },
    {
      "cell_type": "code",
      "execution_count": null,
      "metadata": {
        "id": "lO4g1sJuHIrI"
      },
      "outputs": [],
      "source": [
        "from torch.utils.data import Dataset, DataLoader\n",
        "from torchvision import transforms\n",
        "from PIL import Image\n",
        "\n",
        "class MultimodalDataset(Dataset):\n",
        "    def __init__(self, dataframe, tabular_data, transform=None):\n",
        "        self.dataframe = dataframe\n",
        "        self.tabular_data = tabular_data\n",
        "        self.transform = transform\n",
        "\n",
        "    def __len__(self):\n",
        "        return len(self.dataframe)\n",
        "\n",
        "    def __getitem__(self, idx):\n",
        "        row = self.dataframe.iloc[idx]\n",
        "\n",
        "        image = Image.open(row['image_path']).convert('RGB')\n",
        "        if self.transform:\n",
        "            image = self.transform(image)\n",
        "\n",
        "        tabular_features = self.tabular_data[idx]\n",
        "\n",
        "        label = row['label']\n",
        "\n",
        "        return image, tabular_features, label\n",
        "\n",
        "transform = transforms.Compose([\n",
        "    transforms.Resize((224, 224)),\n",
        "    transforms.ToTensor(),\n",
        "    transforms.Normalize(mean=[0.485, 0.456, 0.406], std=[0.229, 0.224, 0.225])\n",
        "])\n",
        "\n",
        "train_dataset = MultimodalDataset(train_df, train_tabular, transform=transform)\n",
        "val_dataset = MultimodalDataset(val_df, val_tabular, transform=transform)\n",
        "test_dataset = MultimodalDataset(test_df, test_tabular, transform=transform)\n",
        "\n",
        "train_loader = DataLoader(train_dataset, batch_size=32, shuffle=True)\n",
        "val_loader = DataLoader(val_dataset, batch_size=32, shuffle=False)\n",
        "test_loader = DataLoader(test_dataset, batch_size=32, shuffle=False)\n",
        "\n"
      ]
    },
    {
      "cell_type": "code",
      "execution_count": null,
      "metadata": {
        "colab": {
          "base_uri": "https://localhost:8080/"
        },
        "id": "UqPUR5DeJ0cC",
        "outputId": "b9dcb244-19be-49ad-eb11-42cf2856897d"
      },
      "outputs": [
        {
          "name": "stdout",
          "output_type": "stream",
          "text": [
            "Label Map: {'bkl': 0, 'nv': 1, 'df': 2, 'mel': 3, 'vasc': 4, 'bcc': 5, 'akiec': 6}\n"
          ]
        }
      ],
      "source": [
        "label_map = {label: idx for idx, label in enumerate(metadata_df['dx'].unique())}\n",
        "\n",
        "train_df['label'] = train_df['dx'].map(label_map)\n",
        "val_df['label'] = val_df['dx'].map(label_map)\n",
        "test_df['label'] = test_df['dx'].map(label_map)\n",
        "\n",
        "print(\"Label Map:\", label_map)\n"
      ]
    },
    {
      "cell_type": "code",
      "execution_count": null,
      "metadata": {
        "id": "QLDnJWMMLBlR"
      },
      "outputs": [],
      "source": [
        "import numpy as np\n",
        "\n",
        "train_tabular[torch.isnan(train_tabular)] = 0\n",
        "test_tabular[torch.isnan(test_tabular)] = 0\n",
        "val_tabular[torch.isnan(val_tabular)] = 0"
      ]
    },
    {
      "cell_type": "code",
      "execution_count": null,
      "metadata": {
        "colab": {
          "base_uri": "https://localhost:8080/"
        },
        "id": "UC3TiuE7HmFS",
        "outputId": "80ec978c-5968-4880-9289-dd0fec9e3b4a"
      },
      "outputs": [
        {
          "name": "stderr",
          "output_type": "stream",
          "text": [
            "/usr/local/lib/python3.10/dist-packages/torchvision/models/_utils.py:208: UserWarning: The parameter 'pretrained' is deprecated since 0.13 and may be removed in the future, please use 'weights' instead.\n",
            "  warnings.warn(\n",
            "/usr/local/lib/python3.10/dist-packages/torchvision/models/_utils.py:223: UserWarning: Arguments other than a weight enum or `None` for 'weights' are deprecated since 0.13 and may be removed in the future. The current behavior is equivalent to passing `weights=ResNet18_Weights.IMAGENET1K_V1`. You can also use `weights=ResNet18_Weights.DEFAULT` to get the most up-to-date weights.\n",
            "  warnings.warn(msg)\n",
            "Downloading: \"https://download.pytorch.org/models/resnet18-f37072fd.pth\" to /root/.cache/torch/hub/checkpoints/resnet18-f37072fd.pth\n",
            "100%|██████████| 44.7M/44.7M [00:00<00:00, 166MB/s]\n",
            "Epoch 1/10: 100%|██████████| 201/201 [01:20<00:00,  2.49it/s]\n"
          ]
        },
        {
          "name": "stdout",
          "output_type": "stream",
          "text": [
            "Epoch 1, Train Loss: 0.8170, Train Accuracy: 0.7096, Validation Loss: 1.4570, Validation Accuracy: 0.3843\n",
            "New best model saved with Validation Accuracy: 0.3843, Loss: 1.4570\n"
          ]
        },
        {
          "name": "stderr",
          "output_type": "stream",
          "text": [
            "Epoch 2/10: 100%|██████████| 201/201 [01:19<00:00,  2.53it/s]\n"
          ]
        },
        {
          "name": "stdout",
          "output_type": "stream",
          "text": [
            "Epoch 2, Train Loss: 0.6819, Train Accuracy: 0.7465, Validation Loss: 0.6746, Validation Accuracy: 0.7561\n",
            "New best model saved with Validation Accuracy: 0.7561, Loss: 0.6746\n"
          ]
        },
        {
          "name": "stderr",
          "output_type": "stream",
          "text": [
            "Epoch 3/10: 100%|██████████| 201/201 [01:22<00:00,  2.44it/s]\n"
          ]
        },
        {
          "name": "stdout",
          "output_type": "stream",
          "text": [
            "Epoch 3, Train Loss: 0.6358, Train Accuracy: 0.7666, Validation Loss: 1.0366, Validation Accuracy: 0.6245\n"
          ]
        },
        {
          "name": "stderr",
          "output_type": "stream",
          "text": [
            "Epoch 4/10: 100%|██████████| 201/201 [01:20<00:00,  2.49it/s]\n"
          ]
        },
        {
          "name": "stdout",
          "output_type": "stream",
          "text": [
            "Epoch 4, Train Loss: 0.5971, Train Accuracy: 0.7805, Validation Loss: 0.6299, Validation Accuracy: 0.7704\n",
            "New best model saved with Validation Accuracy: 0.7704, Loss: 0.6299\n"
          ]
        },
        {
          "name": "stderr",
          "output_type": "stream",
          "text": [
            "Epoch 5/10: 100%|██████████| 201/201 [01:18<00:00,  2.56it/s]\n"
          ]
        },
        {
          "name": "stdout",
          "output_type": "stream",
          "text": [
            "Epoch 5, Train Loss: 0.5633, Train Accuracy: 0.7922, Validation Loss: 0.6108, Validation Accuracy: 0.7686\n"
          ]
        },
        {
          "name": "stderr",
          "output_type": "stream",
          "text": [
            "Epoch 6/10: 100%|██████████| 201/201 [01:19<00:00,  2.53it/s]\n"
          ]
        },
        {
          "name": "stdout",
          "output_type": "stream",
          "text": [
            "Epoch 6, Train Loss: 0.5122, Train Accuracy: 0.8096, Validation Loss: 0.7221, Validation Accuracy: 0.7779\n",
            "New best model saved with Validation Accuracy: 0.7779, Loss: 0.7221\n"
          ]
        },
        {
          "name": "stderr",
          "output_type": "stream",
          "text": [
            "Epoch 7/10: 100%|██████████| 201/201 [01:19<00:00,  2.53it/s]\n"
          ]
        },
        {
          "name": "stdout",
          "output_type": "stream",
          "text": [
            "Epoch 7, Train Loss: 0.5008, Train Accuracy: 0.8120, Validation Loss: 0.5894, Validation Accuracy: 0.7960\n",
            "New best model saved with Validation Accuracy: 0.7960, Loss: 0.5894\n"
          ]
        },
        {
          "name": "stderr",
          "output_type": "stream",
          "text": [
            "Epoch 8/10: 100%|██████████| 201/201 [01:18<00:00,  2.55it/s]\n"
          ]
        },
        {
          "name": "stdout",
          "output_type": "stream",
          "text": [
            "Epoch 8, Train Loss: 0.4499, Train Accuracy: 0.8327, Validation Loss: 0.5873, Validation Accuracy: 0.7879\n"
          ]
        },
        {
          "name": "stderr",
          "output_type": "stream",
          "text": [
            "Epoch 9/10: 100%|██████████| 201/201 [01:18<00:00,  2.56it/s]\n"
          ]
        },
        {
          "name": "stdout",
          "output_type": "stream",
          "text": [
            "Epoch 9, Train Loss: 0.4026, Train Accuracy: 0.8491, Validation Loss: 0.5999, Validation Accuracy: 0.7891\n"
          ]
        },
        {
          "name": "stderr",
          "output_type": "stream",
          "text": [
            "Epoch 10/10: 100%|██████████| 201/201 [01:20<00:00,  2.49it/s]\n"
          ]
        }
      ],
      "source": [
        "import torch\n",
        "import torch.nn as nn\n",
        "import torch.optim as optim\n",
        "from tqdm import tqdm\n",
        "\n",
        "device = torch.device('cuda' if torch.cuda.is_available() else 'cpu')\n",
        "\n",
        "num_tabular_features = train_tabular.shape[1]\n",
        "num_classes = len(label_map)\n",
        "model = MultimodalModel(num_tabular_features, num_classes).to(device)\n",
        "\n",
        "criterion = nn.CrossEntropyLoss()\n",
        "optimizer = optim.Adam(model.parameters(), lr=0.001) \n",
        "\n",
        "epochs = 10\n",
        "best_val_loss = float('inf')\n",
        "best_val_accuracy = 0.0\n",
        "best_model_path = \"best_multimodal_model.pth\"\n",
        "\n",
        "for epoch in range(epochs):\n",
        "    model.train()\n",
        "    train_loss = 0.0\n",
        "    correct_train = 0\n",
        "    total_train = 0\n",
        "\n",
        "    for images, tabular_features, labels in tqdm(train_loader, desc=f\"Epoch {epoch+1}/{epochs}\"):\n",
        "        images, tabular_features, labels = images.to(device), tabular_features.to(device), labels.to(device)\n",
        "\n",
        "        optimizer.zero_grad()\n",
        "        outputs = model(images, tabular_features)\n",
        "        loss = criterion(outputs, labels)\n",
        "        loss.backward()\n",
        "        optimizer.step()\n",
        "\n",
        "        train_loss += loss.item()\n",
        "        _, predicted = torch.max(outputs, 1)\n",
        "        total_train += labels.size(0)\n",
        "        correct_train += (predicted == labels).sum().item()\n",
        "\n",
        "    train_accuracy = correct_train / total_train\n",
        "    train_loss /= len(train_loader)\n",
        "\n",
        "    model.eval()\n",
        "    val_loss = 0.0\n",
        "    correct_val = 0\n",
        "    total_val = 0\n",
        "\n",
        "    with torch.no_grad():\n",
        "        for images, tabular_features, labels in val_loader:\n",
        "            images, tabular_features, labels = images.to(device), tabular_features.to(device), labels.to(device)\n",
        "            outputs = model(images, tabular_features)\n",
        "            loss = criterion(outputs, labels)\n",
        "\n",
        "            val_loss += loss.item()\n",
        "            _, predicted = torch.max(outputs, 1)\n",
        "            total_val += labels.size(0)\n",
        "            correct_val += (predicted == labels).sum().item()\n",
        "\n",
        "    val_accuracy = correct_val / total_val\n",
        "    val_loss /= len(val_loader)\n",
        "\n",
        "    print(f\"Epoch {epoch+1}, Train Loss: {train_loss:.4f}, Train Accuracy: {train_accuracy:.4f}, \"\n",
        "          f\"Validation Loss: {val_loss:.4f}, Validation Accuracy: {val_accuracy:.4f}\")\n",
        "\n",
        "    if val_accuracy > best_val_accuracy or (val_accuracy == best_val_accuracy and val_loss < best_val_loss):\n",
        "        best_val_accuracy = val_accuracy\n",
        "        best_val_loss = val_loss\n",
        "        torch.save(model.state_dict(), best_model_path)\n",
        "        print(f\"New best model saved with Validation Accuracy: {val_accuracy:.4f}, Loss: {val_loss:.4f}\")\n",
        "\n",
        "print(\"Training complete. Loading the best model.\")\n",
        "# Load the best model for further use\n",
        "model.load_state_dict(torch.load(best_model_path))\n"
      ]
    },
    {
      "cell_type": "code",
      "execution_count": null,
      "metadata": {
        "colab": {
          "background_save": true
        },
        "id": "QzINwWksHwLK",
        "outputId": "57b59602-7dc3-497b-d87b-07a38c2a5cc9"
      },
      "outputs": [
        {
          "name": "stderr",
          "output_type": "stream",
          "text": [
            "<ipython-input-17-68b16f60a258>:5: FutureWarning: You are using `torch.load` with `weights_only=False` (the current default value), which uses the default pickle module implicitly. It is possible to construct malicious pickle data which will execute arbitrary code during unpickling (See https://github.com/pytorch/pytorch/blob/main/SECURITY.md#untrusted-models for more details). In a future release, the default value for `weights_only` will be flipped to `True`. This limits the functions that could be executed during unpickling. Arbitrary objects will no longer be allowed to be loaded via this mode unless they are explicitly allowlisted by the user via `torch.serialization.add_safe_globals`. We recommend you start setting `weights_only=True` for any use case where you don't have full control of the loaded file. Please open an issue on GitHub for any issues related to this experimental feature.\n",
            "  model.load_state_dict(torch.load(\"best_multimodal_model.pth\"))\n"
          ]
        },
        {
          "name": "stdout",
          "output_type": "stream",
          "text": [
            "Test Loss: 0.5984, Test Accuracy: 0.7923\n"
          ]
        }
      ],
      "source": [
        "model.eval()\n",
        "\n",
        "model.load_state_dict(torch.load(\"best_multimodal_model.pth\"))\n",
        "\n",
        "test_loss = 0.0\n",
        "correct_test = 0\n",
        "total_test = 0\n",
        "\n",
        "with torch.no_grad():\n",
        "    for images, tabular_features, labels in test_loader:\n",
        "        images, tabular_features, labels = images.to(device), tabular_features.to(device), labels.to(device)\n",
        "        outputs = model(images, tabular_features)\n",
        "        loss = criterion(outputs, labels)\n",
        "\n",
        "        test_loss += loss.item()\n",
        "        _, predicted = torch.max(outputs, 1)\n",
        "        total_test += labels.size(0)\n",
        "        correct_test += (predicted == labels).sum().item()\n",
        "\n",
        "test_accuracy = correct_test / total_test\n",
        "test_loss /= len(test_loader)\n",
        "\n",
        "print(f\"Test Loss: {test_loss:.4f}, Test Accuracy: {test_accuracy:.4f}\")\n"
      ]
    }
  ],
  "metadata": {
    "accelerator": "GPU",
    "colab": {
      "gpuType": "T4",
      "provenance": []
    },
    "kernelspec": {
      "display_name": "Python 3",
      "name": "python3"
    },
    "language_info": {
      "name": "python"
    }
  },
  "nbformat": 4,
  "nbformat_minor": 0
}
